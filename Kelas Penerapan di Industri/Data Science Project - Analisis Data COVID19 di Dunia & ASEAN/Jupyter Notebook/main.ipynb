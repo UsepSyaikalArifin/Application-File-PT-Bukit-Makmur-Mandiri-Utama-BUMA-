{
 "cells": [
  {
   "cell_type": "code",
   "execution_count": null,
   "metadata": {},
   "outputs": [],
   "source": [
    "import json\n",
    "import requests as req\n",
    "import numpy as np\n",
    "import pandas as pd\n",
    "from IPython.display import display"
   ]
  },
  {
   "cell_type": "code",
   "execution_count": null,
   "metadata": {},
   "outputs": [],
   "source": [
    "def get_json(api_url):\n",
    "    response = req.get(api_url)\n",
    "    if response.status_code == 200:\n",
    "        return json.loads(response.content.decode(\"utf-8\"))\n",
    "    else:\n",
    "        return None"
   ]
  },
  {
   "cell_type": "code",
   "execution_count": null,
   "metadata": {},
   "outputs": [],
   "source": [
    "df_covid_worlwide = pd.read_json(\"https://dqlab.id/data/covid19_worldwide_2020.json\")\n",
    "df_covid_worlwide.to_csv(r\"D:\\Usep Syaikal Arifin\\Computer Programming\\Application File\\Application File PT Bukit Makmur Mandiri Utama (BUMA)\\Kelas Penerapan di Industri\\Data Science Project - Analisis Data COVID19 di Dunia & ASEAN\\File Dokumentasi\\FIle CSV\\covid19_worldwide_2020.csv\", index=None, header=True)\n",
    "df_covid_worlwide.to_excel(r\"D:\\Usep Syaikal Arifin\\Computer Programming\\Application File\\Application File PT Bukit Makmur Mandiri Utama (BUMA)\\Kelas Penerapan di Industri\\Data Science Project - Analisis Data COVID19 di Dunia & ASEAN\\File Dokumentasi\\FIle Excel\\covid19_worldwide_2020.xlsx\", index=None, header=True)\n",
    "display(df_covid_worlwide)"
   ]
  }
 ],
 "metadata": {
  "interpreter": {
   "hash": "6509b18a7194d001ee0cfd46adf488e038c1395c3081cad7b3c9cce4b122d28d"
  },
  "kernelspec": {
   "display_name": "Python 3.9.8 64-bit",
   "language": "python",
   "name": "python3"
  },
  "language_info": {
   "codemirror_mode": {
    "name": "ipython",
    "version": 3
   },
   "file_extension": ".py",
   "mimetype": "text/x-python",
   "name": "python",
   "nbconvert_exporter": "python",
   "pygments_lexer": "ipython3",
   "version": "3.9.8"
  },
  "orig_nbformat": 4
 },
 "nbformat": 4,
 "nbformat_minor": 2
}
