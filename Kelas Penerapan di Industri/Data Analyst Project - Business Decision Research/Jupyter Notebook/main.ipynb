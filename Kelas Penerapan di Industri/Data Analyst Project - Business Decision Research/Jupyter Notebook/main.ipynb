{
 "cells": [
  {
   "cell_type": "markdown",
   "metadata": {},
   "source": [
    "# Churn analysis -> Memberikan rekomendasi dan strategi untuk menurunkan churn dari pelanggan kita"
   ]
  },
  {
   "cell_type": "markdown",
   "metadata": {},
   "source": [
    "## Data Preparation "
   ]
  },
  {
   "cell_type": "code",
   "execution_count": 108,
   "metadata": {},
   "outputs": [
    {
     "name": "stdout",
     "output_type": "stream",
     "text": [
      "<class 'pandas.core.frame.DataFrame'>\n",
      "RangeIndex: 100000 entries, 0 to 99999\n",
      "Data columns (total 8 columns):\n",
      " #   Column                      Non-Null Count   Dtype \n",
      "---  ------                      --------------   ----- \n",
      " 0   no                          100000 non-null  int64 \n",
      " 1   Row_Num                     100000 non-null  int64 \n",
      " 2   Customer_ID                 100000 non-null  int64 \n",
      " 3   Product                     100000 non-null  object\n",
      " 4   First_Transaction           100000 non-null  int64 \n",
      " 5   Last_Transaction            100000 non-null  int64 \n",
      " 6   Average_Transaction_Amount  100000 non-null  int64 \n",
      " 7   Count_Transaction           100000 non-null  int64 \n",
      "dtypes: int64(7), object(1)\n",
      "memory usage: 6.1+ MB\n"
     ]
    },
    {
     "data": {
      "text/plain": [
       "None"
      ]
     },
     "metadata": {},
     "output_type": "display_data"
    },
    {
     "data": {
      "text/html": [
       "<div>\n",
       "<style scoped>\n",
       "    .dataframe tbody tr th:only-of-type {\n",
       "        vertical-align: middle;\n",
       "    }\n",
       "\n",
       "    .dataframe tbody tr th {\n",
       "        vertical-align: top;\n",
       "    }\n",
       "\n",
       "    .dataframe thead th {\n",
       "        text-align: right;\n",
       "    }\n",
       "</style>\n",
       "<table border=\"1\" class=\"dataframe\">\n",
       "  <thead>\n",
       "    <tr style=\"text-align: right;\">\n",
       "      <th></th>\n",
       "      <th>no</th>\n",
       "      <th>Row_Num</th>\n",
       "      <th>Customer_ID</th>\n",
       "      <th>Product</th>\n",
       "      <th>First_Transaction</th>\n",
       "      <th>Last_Transaction</th>\n",
       "      <th>Average_Transaction_Amount</th>\n",
       "      <th>Count_Transaction</th>\n",
       "    </tr>\n",
       "  </thead>\n",
       "  <tbody>\n",
       "    <tr>\n",
       "      <th>0</th>\n",
       "      <td>1</td>\n",
       "      <td>1</td>\n",
       "      <td>29531</td>\n",
       "      <td>Jaket</td>\n",
       "      <td>1466304274396</td>\n",
       "      <td>1538718482608</td>\n",
       "      <td>1467681</td>\n",
       "      <td>22</td>\n",
       "    </tr>\n",
       "    <tr>\n",
       "      <th>1</th>\n",
       "      <td>2</td>\n",
       "      <td>2</td>\n",
       "      <td>29531</td>\n",
       "      <td>Sepatu</td>\n",
       "      <td>1406077331494</td>\n",
       "      <td>1545735761270</td>\n",
       "      <td>1269337</td>\n",
       "      <td>41</td>\n",
       "    </tr>\n",
       "    <tr>\n",
       "      <th>2</th>\n",
       "      <td>3</td>\n",
       "      <td>3</td>\n",
       "      <td>141526</td>\n",
       "      <td>Tas</td>\n",
       "      <td>1493349147000</td>\n",
       "      <td>1548322802000</td>\n",
       "      <td>310915</td>\n",
       "      <td>30</td>\n",
       "    </tr>\n",
       "    <tr>\n",
       "      <th>3</th>\n",
       "      <td>4</td>\n",
       "      <td>4</td>\n",
       "      <td>141526</td>\n",
       "      <td>Jaket</td>\n",
       "      <td>1493362372547</td>\n",
       "      <td>1547643603911</td>\n",
       "      <td>722632</td>\n",
       "      <td>27</td>\n",
       "    </tr>\n",
       "    <tr>\n",
       "      <th>4</th>\n",
       "      <td>5</td>\n",
       "      <td>5</td>\n",
       "      <td>37545</td>\n",
       "      <td>Sepatu</td>\n",
       "      <td>1429178498531</td>\n",
       "      <td>1542891221530</td>\n",
       "      <td>1775036</td>\n",
       "      <td>25</td>\n",
       "    </tr>\n",
       "    <tr>\n",
       "      <th>5</th>\n",
       "      <td>6</td>\n",
       "      <td>6</td>\n",
       "      <td>37545</td>\n",
       "      <td>Tas</td>\n",
       "      <td>1519219258000</td>\n",
       "      <td>1542989347000</td>\n",
       "      <td>298375</td>\n",
       "      <td>22</td>\n",
       "    </tr>\n",
       "    <tr>\n",
       "      <th>6</th>\n",
       "      <td>7</td>\n",
       "      <td>7</td>\n",
       "      <td>65342</td>\n",
       "      <td>Sepatu</td>\n",
       "      <td>1454659134434</td>\n",
       "      <td>1542968202657</td>\n",
       "      <td>2128787</td>\n",
       "      <td>71</td>\n",
       "    </tr>\n",
       "    <tr>\n",
       "      <th>7</th>\n",
       "      <td>8</td>\n",
       "      <td>8</td>\n",
       "      <td>40717</td>\n",
       "      <td>Sepatu</td>\n",
       "      <td>1426154391562</td>\n",
       "      <td>1535076416985</td>\n",
       "      <td>894521</td>\n",
       "      <td>21</td>\n",
       "    </tr>\n",
       "    <tr>\n",
       "      <th>8</th>\n",
       "      <td>9</td>\n",
       "      <td>9</td>\n",
       "      <td>39435</td>\n",
       "      <td>Sepatu</td>\n",
       "      <td>1423737360638</td>\n",
       "      <td>1540998849398</td>\n",
       "      <td>2204904</td>\n",
       "      <td>124</td>\n",
       "    </tr>\n",
       "    <tr>\n",
       "      <th>9</th>\n",
       "      <td>10</td>\n",
       "      <td>10</td>\n",
       "      <td>25636</td>\n",
       "      <td>Sepatu</td>\n",
       "      <td>1405249008682</td>\n",
       "      <td>1545288777860</td>\n",
       "      <td>1213485</td>\n",
       "      <td>89</td>\n",
       "    </tr>\n",
       "  </tbody>\n",
       "</table>\n",
       "</div>"
      ],
      "text/plain": [
       "   no  Row_Num  Customer_ID Product  First_Transaction  Last_Transaction  \\\n",
       "0   1        1        29531   Jaket      1466304274396     1538718482608   \n",
       "1   2        2        29531  Sepatu      1406077331494     1545735761270   \n",
       "2   3        3       141526     Tas      1493349147000     1548322802000   \n",
       "3   4        4       141526   Jaket      1493362372547     1547643603911   \n",
       "4   5        5        37545  Sepatu      1429178498531     1542891221530   \n",
       "5   6        6        37545     Tas      1519219258000     1542989347000   \n",
       "6   7        7        65342  Sepatu      1454659134434     1542968202657   \n",
       "7   8        8        40717  Sepatu      1426154391562     1535076416985   \n",
       "8   9        9        39435  Sepatu      1423737360638     1540998849398   \n",
       "9  10       10        25636  Sepatu      1405249008682     1545288777860   \n",
       "\n",
       "   Average_Transaction_Amount  Count_Transaction  \n",
       "0                     1467681                 22  \n",
       "1                     1269337                 41  \n",
       "2                      310915                 30  \n",
       "3                      722632                 27  \n",
       "4                     1775036                 25  \n",
       "5                      298375                 22  \n",
       "6                     2128787                 71  \n",
       "7                      894521                 21  \n",
       "8                     2204904                124  \n",
       "9                     1213485                 89  "
      ]
     },
     "metadata": {},
     "output_type": "display_data"
    }
   ],
   "source": [
    "import pandas as pd\n",
    "from IPython.display import display\n",
    "\n",
    "df = pd.read_csv(\"https://storage.googleapis.com/dqlab-dataset/data_retail.csv\", sep=\";\")\n",
    "# df.to_csv(r\"D:\\Usep Syaikal Arifin\\Computer Programming\\Application File\\Application File PT Bukit Makmur Mandiri Utama (BUMA)\\Kelas Penerapan di Industri\\Data Analyst Project - Business Decision Research\\File Dokumentasi\\File CSV\\data_retail.csv\", index=None, header=True)\n",
    "# df.to_excel(r\"D:\\Usep Syaikal Arifin\\Computer Programming\\Application File\\Application File PT Bukit Makmur Mandiri Utama (BUMA)\\Kelas Penerapan di Industri\\Data Analyst Project - Business Decision Research\\File Dokumentasi\\File Excel\\data_retail.xlsx\", index=None, header=True)\n",
    "display(df.info())\n",
    "display(df.head(10))"
   ]
  },
  {
   "cell_type": "code",
   "execution_count": 109,
   "metadata": {},
   "outputs": [
    {
     "name": "stdout",
     "output_type": "stream",
     "text": [
      "<class 'pandas.core.frame.DataFrame'>\n",
      "RangeIndex: 100000 entries, 0 to 99999\n",
      "Data columns (total 8 columns):\n",
      " #   Column                      Non-Null Count   Dtype         \n",
      "---  ------                      --------------   -----         \n",
      " 0   no                          100000 non-null  int64         \n",
      " 1   Row_Num                     100000 non-null  int64         \n",
      " 2   Customer_ID                 100000 non-null  int64         \n",
      " 3   Product                     100000 non-null  object        \n",
      " 4   First_Transaction           100000 non-null  datetime64[ns]\n",
      " 5   Last_Transaction            100000 non-null  datetime64[ns]\n",
      " 6   Average_Transaction_Amount  100000 non-null  int64         \n",
      " 7   Count_Transaction           100000 non-null  int64         \n",
      "dtypes: datetime64[ns](2), int64(5), object(1)\n",
      "memory usage: 6.1+ MB\n"
     ]
    },
    {
     "data": {
      "text/plain": [
       "None"
      ]
     },
     "metadata": {},
     "output_type": "display_data"
    },
    {
     "data": {
      "text/html": [
       "<div>\n",
       "<style scoped>\n",
       "    .dataframe tbody tr th:only-of-type {\n",
       "        vertical-align: middle;\n",
       "    }\n",
       "\n",
       "    .dataframe tbody tr th {\n",
       "        vertical-align: top;\n",
       "    }\n",
       "\n",
       "    .dataframe thead th {\n",
       "        text-align: right;\n",
       "    }\n",
       "</style>\n",
       "<table border=\"1\" class=\"dataframe\">\n",
       "  <thead>\n",
       "    <tr style=\"text-align: right;\">\n",
       "      <th></th>\n",
       "      <th>no</th>\n",
       "      <th>Row_Num</th>\n",
       "      <th>Customer_ID</th>\n",
       "      <th>Product</th>\n",
       "      <th>First_Transaction</th>\n",
       "      <th>Last_Transaction</th>\n",
       "      <th>Average_Transaction_Amount</th>\n",
       "      <th>Count_Transaction</th>\n",
       "    </tr>\n",
       "  </thead>\n",
       "  <tbody>\n",
       "    <tr>\n",
       "      <th>0</th>\n",
       "      <td>1</td>\n",
       "      <td>1</td>\n",
       "      <td>29531</td>\n",
       "      <td>Jaket</td>\n",
       "      <td>2016-06-19 02:44:34.396</td>\n",
       "      <td>2018-10-05 05:48:02.608</td>\n",
       "      <td>1467681</td>\n",
       "      <td>22</td>\n",
       "    </tr>\n",
       "    <tr>\n",
       "      <th>1</th>\n",
       "      <td>2</td>\n",
       "      <td>2</td>\n",
       "      <td>29531</td>\n",
       "      <td>Sepatu</td>\n",
       "      <td>2014-07-23 01:02:11.494</td>\n",
       "      <td>2018-12-25 11:02:41.270</td>\n",
       "      <td>1269337</td>\n",
       "      <td>41</td>\n",
       "    </tr>\n",
       "    <tr>\n",
       "      <th>2</th>\n",
       "      <td>3</td>\n",
       "      <td>3</td>\n",
       "      <td>141526</td>\n",
       "      <td>Tas</td>\n",
       "      <td>2017-04-28 03:12:27.000</td>\n",
       "      <td>2019-01-24 09:40:02.000</td>\n",
       "      <td>310915</td>\n",
       "      <td>30</td>\n",
       "    </tr>\n",
       "    <tr>\n",
       "      <th>3</th>\n",
       "      <td>4</td>\n",
       "      <td>4</td>\n",
       "      <td>141526</td>\n",
       "      <td>Jaket</td>\n",
       "      <td>2017-04-28 06:52:52.547</td>\n",
       "      <td>2019-01-16 13:00:03.911</td>\n",
       "      <td>722632</td>\n",
       "      <td>27</td>\n",
       "    </tr>\n",
       "    <tr>\n",
       "      <th>4</th>\n",
       "      <td>5</td>\n",
       "      <td>5</td>\n",
       "      <td>37545</td>\n",
       "      <td>Sepatu</td>\n",
       "      <td>2015-04-16 10:01:38.531</td>\n",
       "      <td>2018-11-22 12:53:41.530</td>\n",
       "      <td>1775036</td>\n",
       "      <td>25</td>\n",
       "    </tr>\n",
       "  </tbody>\n",
       "</table>\n",
       "</div>"
      ],
      "text/plain": [
       "   no  Row_Num  Customer_ID Product       First_Transaction  \\\n",
       "0   1        1        29531   Jaket 2016-06-19 02:44:34.396   \n",
       "1   2        2        29531  Sepatu 2014-07-23 01:02:11.494   \n",
       "2   3        3       141526     Tas 2017-04-28 03:12:27.000   \n",
       "3   4        4       141526   Jaket 2017-04-28 06:52:52.547   \n",
       "4   5        5        37545  Sepatu 2015-04-16 10:01:38.531   \n",
       "\n",
       "         Last_Transaction  Average_Transaction_Amount  Count_Transaction  \n",
       "0 2018-10-05 05:48:02.608                     1467681                 22  \n",
       "1 2018-12-25 11:02:41.270                     1269337                 41  \n",
       "2 2019-01-24 09:40:02.000                      310915                 30  \n",
       "3 2019-01-16 13:00:03.911                      722632                 27  \n",
       "4 2018-11-22 12:53:41.530                     1775036                 25  "
      ]
     },
     "metadata": {},
     "output_type": "display_data"
    }
   ],
   "source": [
    "df[\"First_Transaction\"] = pd.to_datetime(df[\"First_Transaction\"], unit=\"ms\")\n",
    "df[\"Last_Transaction\"] = pd.to_datetime(df[\"Last_Transaction\"], unit=\"ms\")\n",
    "\n",
    "display(df.info())\n",
    "display(df.head())"
   ]
  },
  {
   "cell_type": "markdown",
   "metadata": {},
   "source": [
    "## Membuat Kolom Churn Customers"
   ]
  },
  {
   "cell_type": "code",
   "execution_count": 110,
   "metadata": {},
   "outputs": [
    {
     "name": "stdout",
     "output_type": "stream",
     "text": [
      "2019-02-01 23:57:57.286000\n",
      "<class 'pandas.core.frame.DataFrame'>\n",
      "RangeIndex: 100000 entries, 0 to 99999\n",
      "Data columns (total 9 columns):\n",
      " #   Column                      Non-Null Count   Dtype         \n",
      "---  ------                      --------------   -----         \n",
      " 0   no                          100000 non-null  int64         \n",
      " 1   Row_Num                     100000 non-null  int64         \n",
      " 2   Customer_ID                 100000 non-null  int64         \n",
      " 3   Product                     100000 non-null  object        \n",
      " 4   First_Transaction           100000 non-null  datetime64[ns]\n",
      " 5   Last_Transaction            100000 non-null  datetime64[ns]\n",
      " 6   Average_Transaction_Amount  100000 non-null  int64         \n",
      " 7   Count_Transaction           100000 non-null  int64         \n",
      " 8   is_churn                    100000 non-null  object        \n",
      "dtypes: datetime64[ns](2), int64(5), object(2)\n",
      "memory usage: 6.9+ MB\n"
     ]
    },
    {
     "data": {
      "text/plain": [
       "None"
      ]
     },
     "metadata": {},
     "output_type": "display_data"
    },
    {
     "data": {
      "text/html": [
       "<div>\n",
       "<style scoped>\n",
       "    .dataframe tbody tr th:only-of-type {\n",
       "        vertical-align: middle;\n",
       "    }\n",
       "\n",
       "    .dataframe tbody tr th {\n",
       "        vertical-align: top;\n",
       "    }\n",
       "\n",
       "    .dataframe thead th {\n",
       "        text-align: right;\n",
       "    }\n",
       "</style>\n",
       "<table border=\"1\" class=\"dataframe\">\n",
       "  <thead>\n",
       "    <tr style=\"text-align: right;\">\n",
       "      <th></th>\n",
       "      <th>no</th>\n",
       "      <th>Row_Num</th>\n",
       "      <th>Customer_ID</th>\n",
       "      <th>Product</th>\n",
       "      <th>First_Transaction</th>\n",
       "      <th>Last_Transaction</th>\n",
       "      <th>Average_Transaction_Amount</th>\n",
       "      <th>Count_Transaction</th>\n",
       "      <th>is_churn</th>\n",
       "    </tr>\n",
       "  </thead>\n",
       "  <tbody>\n",
       "    <tr>\n",
       "      <th>0</th>\n",
       "      <td>1</td>\n",
       "      <td>1</td>\n",
       "      <td>29531</td>\n",
       "      <td>Jaket</td>\n",
       "      <td>2016-06-19 02:44:34.396</td>\n",
       "      <td>2018-10-05 05:48:02.608</td>\n",
       "      <td>1467681</td>\n",
       "      <td>22</td>\n",
       "      <td>False</td>\n",
       "    </tr>\n",
       "    <tr>\n",
       "      <th>1</th>\n",
       "      <td>2</td>\n",
       "      <td>2</td>\n",
       "      <td>29531</td>\n",
       "      <td>Sepatu</td>\n",
       "      <td>2014-07-23 01:02:11.494</td>\n",
       "      <td>2018-12-25 11:02:41.270</td>\n",
       "      <td>1269337</td>\n",
       "      <td>41</td>\n",
       "      <td>False</td>\n",
       "    </tr>\n",
       "    <tr>\n",
       "      <th>2</th>\n",
       "      <td>3</td>\n",
       "      <td>3</td>\n",
       "      <td>141526</td>\n",
       "      <td>Tas</td>\n",
       "      <td>2017-04-28 03:12:27.000</td>\n",
       "      <td>2019-01-24 09:40:02.000</td>\n",
       "      <td>310915</td>\n",
       "      <td>30</td>\n",
       "      <td>False</td>\n",
       "    </tr>\n",
       "    <tr>\n",
       "      <th>3</th>\n",
       "      <td>4</td>\n",
       "      <td>4</td>\n",
       "      <td>141526</td>\n",
       "      <td>Jaket</td>\n",
       "      <td>2017-04-28 06:52:52.547</td>\n",
       "      <td>2019-01-16 13:00:03.911</td>\n",
       "      <td>722632</td>\n",
       "      <td>27</td>\n",
       "      <td>False</td>\n",
       "    </tr>\n",
       "    <tr>\n",
       "      <th>4</th>\n",
       "      <td>5</td>\n",
       "      <td>5</td>\n",
       "      <td>37545</td>\n",
       "      <td>Sepatu</td>\n",
       "      <td>2015-04-16 10:01:38.531</td>\n",
       "      <td>2018-11-22 12:53:41.530</td>\n",
       "      <td>1775036</td>\n",
       "      <td>25</td>\n",
       "      <td>False</td>\n",
       "    </tr>\n",
       "  </tbody>\n",
       "</table>\n",
       "</div>"
      ],
      "text/plain": [
       "   no  Row_Num  Customer_ID Product       First_Transaction  \\\n",
       "0   1        1        29531   Jaket 2016-06-19 02:44:34.396   \n",
       "1   2        2        29531  Sepatu 2014-07-23 01:02:11.494   \n",
       "2   3        3       141526     Tas 2017-04-28 03:12:27.000   \n",
       "3   4        4       141526   Jaket 2017-04-28 06:52:52.547   \n",
       "4   5        5        37545  Sepatu 2015-04-16 10:01:38.531   \n",
       "\n",
       "         Last_Transaction  Average_Transaction_Amount  Count_Transaction  \\\n",
       "0 2018-10-05 05:48:02.608                     1467681                 22   \n",
       "1 2018-12-25 11:02:41.270                     1269337                 41   \n",
       "2 2019-01-24 09:40:02.000                      310915                 30   \n",
       "3 2019-01-16 13:00:03.911                      722632                 27   \n",
       "4 2018-11-22 12:53:41.530                     1775036                 25   \n",
       "\n",
       "  is_churn  \n",
       "0    False  \n",
       "1    False  \n",
       "2    False  \n",
       "3    False  \n",
       "4    False  "
      ]
     },
     "metadata": {},
     "output_type": "display_data"
    }
   ],
   "source": [
    "print(max(df[\"Last_Transaction\"]))\n",
    "max_churn_category = \"2018-08-01\"\n",
    "\n",
    "df.loc[df[\"Last_Transaction\"] <= max_churn_category, \"is_churn\"] = True\n",
    "df.loc[df[\"Last_Transaction\"] > max_churn_category, \"is_churn\"] = False\n",
    "\n",
    "display(df.info())\n",
    "display(df.head())"
   ]
  },
  {
   "cell_type": "code",
   "execution_count": 111,
   "metadata": {},
   "outputs": [
    {
     "name": "stdout",
     "output_type": "stream",
     "text": [
      "<class 'pandas.core.frame.DataFrame'>\n",
      "RangeIndex: 100000 entries, 0 to 99999\n",
      "Data columns (total 7 columns):\n",
      " #   Column                      Non-Null Count   Dtype         \n",
      "---  ------                      --------------   -----         \n",
      " 0   Customer_ID                 100000 non-null  int64         \n",
      " 1   Product                     100000 non-null  object        \n",
      " 2   First_Transaction           100000 non-null  datetime64[ns]\n",
      " 3   Last_Transaction            100000 non-null  datetime64[ns]\n",
      " 4   Average_Transaction_Amount  100000 non-null  int64         \n",
      " 5   Count_Transaction           100000 non-null  int64         \n",
      " 6   is_churn                    100000 non-null  object        \n",
      "dtypes: datetime64[ns](2), int64(3), object(2)\n",
      "memory usage: 5.3+ MB\n"
     ]
    },
    {
     "data": {
      "text/plain": [
       "None"
      ]
     },
     "metadata": {},
     "output_type": "display_data"
    },
    {
     "data": {
      "text/html": [
       "<div>\n",
       "<style scoped>\n",
       "    .dataframe tbody tr th:only-of-type {\n",
       "        vertical-align: middle;\n",
       "    }\n",
       "\n",
       "    .dataframe tbody tr th {\n",
       "        vertical-align: top;\n",
       "    }\n",
       "\n",
       "    .dataframe thead th {\n",
       "        text-align: right;\n",
       "    }\n",
       "</style>\n",
       "<table border=\"1\" class=\"dataframe\">\n",
       "  <thead>\n",
       "    <tr style=\"text-align: right;\">\n",
       "      <th></th>\n",
       "      <th>Customer_ID</th>\n",
       "      <th>Product</th>\n",
       "      <th>First_Transaction</th>\n",
       "      <th>Last_Transaction</th>\n",
       "      <th>Average_Transaction_Amount</th>\n",
       "      <th>Count_Transaction</th>\n",
       "      <th>is_churn</th>\n",
       "    </tr>\n",
       "  </thead>\n",
       "  <tbody>\n",
       "    <tr>\n",
       "      <th>0</th>\n",
       "      <td>29531</td>\n",
       "      <td>Jaket</td>\n",
       "      <td>2016-06-19 02:44:34.396</td>\n",
       "      <td>2018-10-05 05:48:02.608</td>\n",
       "      <td>1467681</td>\n",
       "      <td>22</td>\n",
       "      <td>False</td>\n",
       "    </tr>\n",
       "    <tr>\n",
       "      <th>1</th>\n",
       "      <td>29531</td>\n",
       "      <td>Sepatu</td>\n",
       "      <td>2014-07-23 01:02:11.494</td>\n",
       "      <td>2018-12-25 11:02:41.270</td>\n",
       "      <td>1269337</td>\n",
       "      <td>41</td>\n",
       "      <td>False</td>\n",
       "    </tr>\n",
       "    <tr>\n",
       "      <th>2</th>\n",
       "      <td>141526</td>\n",
       "      <td>Tas</td>\n",
       "      <td>2017-04-28 03:12:27.000</td>\n",
       "      <td>2019-01-24 09:40:02.000</td>\n",
       "      <td>310915</td>\n",
       "      <td>30</td>\n",
       "      <td>False</td>\n",
       "    </tr>\n",
       "    <tr>\n",
       "      <th>3</th>\n",
       "      <td>141526</td>\n",
       "      <td>Jaket</td>\n",
       "      <td>2017-04-28 06:52:52.547</td>\n",
       "      <td>2019-01-16 13:00:03.911</td>\n",
       "      <td>722632</td>\n",
       "      <td>27</td>\n",
       "      <td>False</td>\n",
       "    </tr>\n",
       "    <tr>\n",
       "      <th>4</th>\n",
       "      <td>37545</td>\n",
       "      <td>Sepatu</td>\n",
       "      <td>2015-04-16 10:01:38.531</td>\n",
       "      <td>2018-11-22 12:53:41.530</td>\n",
       "      <td>1775036</td>\n",
       "      <td>25</td>\n",
       "      <td>False</td>\n",
       "    </tr>\n",
       "  </tbody>\n",
       "</table>\n",
       "</div>"
      ],
      "text/plain": [
       "   Customer_ID Product       First_Transaction        Last_Transaction  \\\n",
       "0        29531   Jaket 2016-06-19 02:44:34.396 2018-10-05 05:48:02.608   \n",
       "1        29531  Sepatu 2014-07-23 01:02:11.494 2018-12-25 11:02:41.270   \n",
       "2       141526     Tas 2017-04-28 03:12:27.000 2019-01-24 09:40:02.000   \n",
       "3       141526   Jaket 2017-04-28 06:52:52.547 2019-01-16 13:00:03.911   \n",
       "4        37545  Sepatu 2015-04-16 10:01:38.531 2018-11-22 12:53:41.530   \n",
       "\n",
       "   Average_Transaction_Amount  Count_Transaction is_churn  \n",
       "0                     1467681                 22    False  \n",
       "1                     1269337                 41    False  \n",
       "2                      310915                 30    False  \n",
       "3                      722632                 27    False  \n",
       "4                     1775036                 25    False  "
      ]
     },
     "metadata": {},
     "output_type": "display_data"
    }
   ],
   "source": [
    "df = df.drop([\"no\", \"Row_Num\"], axis=1)\n",
    "\n",
    "display(df.info())\n",
    "display(df.head())"
   ]
  },
  {
   "cell_type": "markdown",
   "metadata": {},
   "source": [
    "## Customer acquisition by year"
   ]
  },
  {
   "cell_type": "code",
   "execution_count": 112,
   "metadata": {},
   "outputs": [
    {
     "name": "stdout",
     "output_type": "stream",
     "text": [
      "<class 'pandas.core.frame.DataFrame'>\n",
      "RangeIndex: 100000 entries, 0 to 99999\n",
      "Data columns (total 9 columns):\n",
      " #   Column                      Non-Null Count   Dtype         \n",
      "---  ------                      --------------   -----         \n",
      " 0   Customer_ID                 100000 non-null  int64         \n",
      " 1   Product                     100000 non-null  object        \n",
      " 2   First_Transaction           100000 non-null  datetime64[ns]\n",
      " 3   Last_Transaction            100000 non-null  datetime64[ns]\n",
      " 4   Average_Transaction_Amount  100000 non-null  int64         \n",
      " 5   Count_Transaction           100000 non-null  int64         \n",
      " 6   is_churn                    100000 non-null  object        \n",
      " 7   Year_First_Transaction      100000 non-null  int64         \n",
      " 8   Year_Last_Transaction       100000 non-null  int64         \n",
      "dtypes: datetime64[ns](2), int64(5), object(2)\n",
      "memory usage: 6.9+ MB\n"
     ]
    },
    {
     "data": {
      "text/plain": [
       "None"
      ]
     },
     "metadata": {},
     "output_type": "display_data"
    },
    {
     "data": {
      "text/html": [
       "<div>\n",
       "<style scoped>\n",
       "    .dataframe tbody tr th:only-of-type {\n",
       "        vertical-align: middle;\n",
       "    }\n",
       "\n",
       "    .dataframe tbody tr th {\n",
       "        vertical-align: top;\n",
       "    }\n",
       "\n",
       "    .dataframe thead th {\n",
       "        text-align: right;\n",
       "    }\n",
       "</style>\n",
       "<table border=\"1\" class=\"dataframe\">\n",
       "  <thead>\n",
       "    <tr style=\"text-align: right;\">\n",
       "      <th></th>\n",
       "      <th>Customer_ID</th>\n",
       "      <th>Product</th>\n",
       "      <th>First_Transaction</th>\n",
       "      <th>Last_Transaction</th>\n",
       "      <th>Average_Transaction_Amount</th>\n",
       "      <th>Count_Transaction</th>\n",
       "      <th>is_churn</th>\n",
       "      <th>Year_First_Transaction</th>\n",
       "      <th>Year_Last_Transaction</th>\n",
       "    </tr>\n",
       "  </thead>\n",
       "  <tbody>\n",
       "    <tr>\n",
       "      <th>0</th>\n",
       "      <td>29531</td>\n",
       "      <td>Jaket</td>\n",
       "      <td>2016-06-19 02:44:34.396</td>\n",
       "      <td>2018-10-05 05:48:02.608</td>\n",
       "      <td>1467681</td>\n",
       "      <td>22</td>\n",
       "      <td>False</td>\n",
       "      <td>2016</td>\n",
       "      <td>2018</td>\n",
       "    </tr>\n",
       "    <tr>\n",
       "      <th>1</th>\n",
       "      <td>29531</td>\n",
       "      <td>Sepatu</td>\n",
       "      <td>2014-07-23 01:02:11.494</td>\n",
       "      <td>2018-12-25 11:02:41.270</td>\n",
       "      <td>1269337</td>\n",
       "      <td>41</td>\n",
       "      <td>False</td>\n",
       "      <td>2014</td>\n",
       "      <td>2018</td>\n",
       "    </tr>\n",
       "    <tr>\n",
       "      <th>2</th>\n",
       "      <td>141526</td>\n",
       "      <td>Tas</td>\n",
       "      <td>2017-04-28 03:12:27.000</td>\n",
       "      <td>2019-01-24 09:40:02.000</td>\n",
       "      <td>310915</td>\n",
       "      <td>30</td>\n",
       "      <td>False</td>\n",
       "      <td>2017</td>\n",
       "      <td>2019</td>\n",
       "    </tr>\n",
       "    <tr>\n",
       "      <th>3</th>\n",
       "      <td>141526</td>\n",
       "      <td>Jaket</td>\n",
       "      <td>2017-04-28 06:52:52.547</td>\n",
       "      <td>2019-01-16 13:00:03.911</td>\n",
       "      <td>722632</td>\n",
       "      <td>27</td>\n",
       "      <td>False</td>\n",
       "      <td>2017</td>\n",
       "      <td>2019</td>\n",
       "    </tr>\n",
       "    <tr>\n",
       "      <th>4</th>\n",
       "      <td>37545</td>\n",
       "      <td>Sepatu</td>\n",
       "      <td>2015-04-16 10:01:38.531</td>\n",
       "      <td>2018-11-22 12:53:41.530</td>\n",
       "      <td>1775036</td>\n",
       "      <td>25</td>\n",
       "      <td>False</td>\n",
       "      <td>2015</td>\n",
       "      <td>2018</td>\n",
       "    </tr>\n",
       "  </tbody>\n",
       "</table>\n",
       "</div>"
      ],
      "text/plain": [
       "   Customer_ID Product       First_Transaction        Last_Transaction  \\\n",
       "0        29531   Jaket 2016-06-19 02:44:34.396 2018-10-05 05:48:02.608   \n",
       "1        29531  Sepatu 2014-07-23 01:02:11.494 2018-12-25 11:02:41.270   \n",
       "2       141526     Tas 2017-04-28 03:12:27.000 2019-01-24 09:40:02.000   \n",
       "3       141526   Jaket 2017-04-28 06:52:52.547 2019-01-16 13:00:03.911   \n",
       "4        37545  Sepatu 2015-04-16 10:01:38.531 2018-11-22 12:53:41.530   \n",
       "\n",
       "   Average_Transaction_Amount  Count_Transaction is_churn  \\\n",
       "0                     1467681                 22    False   \n",
       "1                     1269337                 41    False   \n",
       "2                      310915                 30    False   \n",
       "3                      722632                 27    False   \n",
       "4                     1775036                 25    False   \n",
       "\n",
       "   Year_First_Transaction  Year_Last_Transaction  \n",
       "0                    2016                   2018  \n",
       "1                    2014                   2018  \n",
       "2                    2017                   2019  \n",
       "3                    2017                   2019  \n",
       "4                    2015                   2018  "
      ]
     },
     "metadata": {},
     "output_type": "display_data"
    },
    {
     "data": {
      "text/plain": [
       "Year_First_Transaction\n",
       "2013     1007\n",
       "2014     4954\n",
       "2015    11235\n",
       "2016    17656\n",
       "2017    31828\n",
       "Name: Customer_ID, dtype: int64"
      ]
     },
     "metadata": {},
     "output_type": "display_data"
    },
    {
     "data": {
      "image/png": "[encoded data removed]",
      "text/plain": [
       "<Figure size 1080x360 with 1 Axes>"
      ]
     },
     "metadata": {
      "needs_background": "light"
     },
     "output_type": "display_data"
    }
   ],
   "source": [
    "import matplotlib.pyplot as plt\n",
    "from IPython.display import display\n",
    "\n",
    "df[\"Year_First_Transaction\"] = df[\"First_Transaction\"].dt.year\n",
    "df[\"Year_Last_Transaction\"] = df[\"Last_Transaction\"].dt.year\n",
    "\n",
    "display(df.info())\n",
    "display(df.head())\n",
    "\n",
    "df_year = df.groupby([\"Year_First_Transaction\"])[\"Customer_ID\"].count()\n",
    "display(df_year.head())\n",
    "\n",
    "plt.figure(figsize=(15, 5))\n",
    "df_year.plot(x=\"Year_First_Transaction\", y=\"Customer_ID\", kind=\"bar\", color=\"red\")\n",
    "plt.title(\"Graph of Customer Acquisiton\", fontsize=20)\n",
    "plt.xlabel(\"Year First Transaction\", fontsize=15)\n",
    "plt.ylabel(\"Customer_ID\", fontsize=15)\n",
    "plt.tight_layout()\n",
    "plt.show()"
   ]
  },
  {
   "cell_type": "markdown",
   "metadata": {},
   "source": [
    "## Customer Transaction by Year"
   ]
  },
  {
   "cell_type": "code",
   "execution_count": 113,
   "metadata": {},
   "outputs": [
    {
     "data": {
      "image/png": "[encoded data removed]",
      "text/plain": [
       "<Figure size 1080x360 with 1 Axes>"
      ]
     },
     "metadata": {
      "needs_background": "light"
     },
     "output_type": "display_data"
    },
    {
     "data": {
      "text/plain": [
       "Year_First_Transaction\n",
       "2013     23154\n",
       "2014    165494\n",
       "2015    297445\n",
       "2016    278707\n",
       "2017    299199\n",
       "2018     99989\n",
       "2019      5862\n",
       "Name: Count_Transaction, dtype: int64"
      ]
     },
     "metadata": {},
     "output_type": "display_data"
    }
   ],
   "source": [
    "df_year = df.groupby([\"Year_First_Transaction\"])[\"Count_Transaction\"].sum()\n",
    "plt.figure(figsize=(15, 5))\n",
    "df_year.plot(x=\"Year_First_Transaction\", y=\"Count_Transaction\", kind=\"bar\", color=\"yellow\")\n",
    "plt.title(\"Graph of Transaction Customers\", fontsize=20)\n",
    "plt.xlabel(\"Year First Transaction\", fontsize=15)\n",
    "plt.ylabel(\"Count Transaction\", fontsize=20)\n",
    "plt.tight_layout()\n",
    "plt.show()\n",
    "\n",
    "display(df_year)"
   ]
  },
  {
   "cell_type": "markdown",
   "metadata": {},
   "source": [
    "## Average transaction amount by year"
   ]
  },
  {
   "cell_type": "code",
   "execution_count": 114,
   "metadata": {},
   "outputs": [
    {
     "data": {
      "text/plain": [
       "<Figure size 432x288 with 0 Axes>"
      ]
     },
     "metadata": {},
     "output_type": "display_data"
    },
    {
     "data": {
      "image/png": "[encoded data removed]",
      "text/plain": [
       "<Figure size 1080x360 with 1 Axes>"
      ]
     },
     "metadata": {
      "needs_background": "light"
     },
     "output_type": "display_data"
    }
   ],
   "source": [
    "import seaborn as sns\n",
    "\n",
    "data = df.groupby([\"Product\", \"Year_First_Transaction\"]).mean().reset_index()\n",
    "plt.clf()\n",
    "plt.figure(figsize=(15, 5))\n",
    "sns.pointplot(\n",
    "                data=data,\n",
    "                x=\"Year_First_Transaction\",\n",
    "                y=\"Average_Transaction_Amount\",\n",
    "                hue=\"Product\"\n",
    "            )\n",
    "plt.title(\"Average Transaction by Product of Year\", fontsize=25)\n",
    "plt.xlabel(\"Year First Transaction\", fontsize=15)\n",
    "plt.ylabel(\"Average Transaction Amount\", fontsize=15)\n",
    "plt.tight_layout()\n",
    "plt.show()"
   ]
  },
  {
   "cell_type": "markdown",
   "metadata": {},
   "source": [
    "## Proporsi Churn untuk setiap Product"
   ]
  },
  {
   "cell_type": "code",
   "execution_count": 115,
   "metadata": {},
   "outputs": [
    {
     "data": {
      "text/html": [
       "<div>\n",
       "<style scoped>\n",
       "    .dataframe tbody tr th:only-of-type {\n",
       "        vertical-align: middle;\n",
       "    }\n",
       "\n",
       "    .dataframe tbody tr th {\n",
       "        vertical-align: top;\n",
       "    }\n",
       "\n",
       "    .dataframe thead th {\n",
       "        text-align: right;\n",
       "    }\n",
       "</style>\n",
       "<table border=\"1\" class=\"dataframe\">\n",
       "  <thead>\n",
       "    <tr style=\"text-align: right;\">\n",
       "      <th>Product</th>\n",
       "      <th>Baju</th>\n",
       "      <th>Jaket</th>\n",
       "      <th>Sepatu</th>\n",
       "      <th>Tas</th>\n",
       "    </tr>\n",
       "    <tr>\n",
       "      <th>is_churn</th>\n",
       "      <th></th>\n",
       "      <th></th>\n",
       "      <th></th>\n",
       "      <th></th>\n",
       "    </tr>\n",
       "  </thead>\n",
       "  <tbody>\n",
       "    <tr>\n",
       "      <th>False</th>\n",
       "      <td>1268</td>\n",
       "      <td>11123</td>\n",
       "      <td>16064</td>\n",
       "      <td>4976</td>\n",
       "    </tr>\n",
       "    <tr>\n",
       "      <th>True</th>\n",
       "      <td>2144</td>\n",
       "      <td>23827</td>\n",
       "      <td>33090</td>\n",
       "      <td>7508</td>\n",
       "    </tr>\n",
       "  </tbody>\n",
       "</table>\n",
       "</div>"
      ],
      "text/plain": [
       "Product   Baju  Jaket  Sepatu   Tas\n",
       "is_churn                           \n",
       "False     1268  11123   16064  4976\n",
       "True      2144  23827   33090  7508"
      ]
     },
     "metadata": {},
     "output_type": "display_data"
    },
    {
     "data": {
      "text/plain": [
       "Index(['Baju', 'Jaket', 'Sepatu', 'Tas'], dtype='object', name='Product')"
      ]
     },
     "metadata": {},
     "output_type": "display_data"
    },
    {
     "data": {
      "text/html": [
       "<div>\n",
       "<style scoped>\n",
       "    .dataframe tbody tr th:only-of-type {\n",
       "        vertical-align: middle;\n",
       "    }\n",
       "\n",
       "    .dataframe tbody tr th {\n",
       "        vertical-align: top;\n",
       "    }\n",
       "\n",
       "    .dataframe thead th {\n",
       "        text-align: right;\n",
       "    }\n",
       "</style>\n",
       "<table border=\"1\" class=\"dataframe\">\n",
       "  <thead>\n",
       "    <tr style=\"text-align: right;\">\n",
       "      <th>Product</th>\n",
       "      <th>Baju</th>\n",
       "      <th>Jaket</th>\n",
       "      <th>Sepatu</th>\n",
       "      <th>Tas</th>\n",
       "    </tr>\n",
       "    <tr>\n",
       "      <th>is_churn</th>\n",
       "      <th></th>\n",
       "      <th></th>\n",
       "      <th></th>\n",
       "      <th></th>\n",
       "    </tr>\n",
       "  </thead>\n",
       "  <tbody>\n",
       "    <tr>\n",
       "      <th>False</th>\n",
       "      <td>1268</td>\n",
       "      <td>11123</td>\n",
       "      <td>16064</td>\n",
       "      <td>4976</td>\n",
       "    </tr>\n",
       "    <tr>\n",
       "      <th>True</th>\n",
       "      <td>2144</td>\n",
       "      <td>23827</td>\n",
       "      <td>33090</td>\n",
       "      <td>7508</td>\n",
       "    </tr>\n",
       "  </tbody>\n",
       "</table>\n",
       "</div>"
      ],
      "text/plain": [
       "Product   Baju  Jaket  Sepatu   Tas\n",
       "is_churn                           \n",
       "False     1268  11123   16064  4976\n",
       "True      2144  23827   33090  7508"
      ]
     },
     "metadata": {},
     "output_type": "display_data"
    },
    {
     "data": {
      "text/plain": [
       "<Figure size 432x288 with 0 Axes>"
      ]
     },
     "metadata": {},
     "output_type": "display_data"
    },
    {
     "data": {
      "image/png": "[encoded data removed]",
      "text/plain": [
       "<Figure size 1080x720 with 4 Axes>"
      ]
     },
     "metadata": {},
     "output_type": "display_data"
    }
   ],
   "source": [
    "import matplotlib.pyplot as plt\n",
    "\n",
    "plt.clf()\n",
    "df_piv = df.pivot_table(\n",
    "                         index=\"is_churn\",\n",
    "                         columns=\"Product\",\n",
    "                         values=\"Customer_ID\",\n",
    "                         aggfunc=\"count\",\n",
    "                         fill_value=0\n",
    "                        )\n",
    "# display(df.head())\n",
    "display(df_piv)\n",
    "plot_produk = df_piv.count().sort_values(ascending=False).head().index\n",
    "display(plot_produk)\n",
    "df_piv = df_piv.reindex(columns=plot_produk)\n",
    "display(df_piv)\n",
    "df_piv.plot.pie(\n",
    "                subplots=True,\n",
    "                figsize=(15, 10),\n",
    "                layout=(-1, 2),\n",
    "                autopct=\"%.2f%%\",\n",
    "                title=\"Proportion Churn by Products\"\n",
    "               )\n",
    "plt.tight_layout()\n",
    "plt.show()"
   ]
  },
  {
   "cell_type": "markdown",
   "metadata": {},
   "source": [
    "## Distribusi kategorisasi count transaction"
   ]
  },
  {
   "cell_type": "code",
   "execution_count": 116,
   "metadata": {},
   "outputs": [
    {
     "data": {
      "text/html": [
       "<div>\n",
       "<style scoped>\n",
       "    .dataframe tbody tr th:only-of-type {\n",
       "        vertical-align: middle;\n",
       "    }\n",
       "\n",
       "    .dataframe tbody tr th {\n",
       "        vertical-align: top;\n",
       "    }\n",
       "\n",
       "    .dataframe thead th {\n",
       "        text-align: right;\n",
       "    }\n",
       "</style>\n",
       "<table border=\"1\" class=\"dataframe\">\n",
       "  <thead>\n",
       "    <tr style=\"text-align: right;\">\n",
       "      <th></th>\n",
       "      <th>Customer_ID</th>\n",
       "      <th>Product</th>\n",
       "      <th>First_Transaction</th>\n",
       "      <th>Last_Transaction</th>\n",
       "      <th>Average_Transaction_Amount</th>\n",
       "      <th>Count_Transaction</th>\n",
       "      <th>is_churn</th>\n",
       "      <th>Year_First_Transaction</th>\n",
       "      <th>Year_Last_Transaction</th>\n",
       "      <th>Count_Transaction_Group</th>\n",
       "    </tr>\n",
       "  </thead>\n",
       "  <tbody>\n",
       "    <tr>\n",
       "      <th>0</th>\n",
       "      <td>29531</td>\n",
       "      <td>Jaket</td>\n",
       "      <td>2016-06-19 02:44:34.396</td>\n",
       "      <td>2018-10-05 05:48:02.608</td>\n",
       "      <td>1467681</td>\n",
       "      <td>22</td>\n",
       "      <td>False</td>\n",
       "      <td>2016</td>\n",
       "      <td>2018</td>\n",
       "      <td>5. &gt;10</td>\n",
       "    </tr>\n",
       "    <tr>\n",
       "      <th>1</th>\n",
       "      <td>29531</td>\n",
       "      <td>Sepatu</td>\n",
       "      <td>2014-07-23 01:02:11.494</td>\n",
       "      <td>2018-12-25 11:02:41.270</td>\n",
       "      <td>1269337</td>\n",
       "      <td>41</td>\n",
       "      <td>False</td>\n",
       "      <td>2014</td>\n",
       "      <td>2018</td>\n",
       "      <td>5. &gt;10</td>\n",
       "    </tr>\n",
       "    <tr>\n",
       "      <th>2</th>\n",
       "      <td>141526</td>\n",
       "      <td>Tas</td>\n",
       "      <td>2017-04-28 03:12:27.000</td>\n",
       "      <td>2019-01-24 09:40:02.000</td>\n",
       "      <td>310915</td>\n",
       "      <td>30</td>\n",
       "      <td>False</td>\n",
       "      <td>2017</td>\n",
       "      <td>2019</td>\n",
       "      <td>5. &gt;10</td>\n",
       "    </tr>\n",
       "    <tr>\n",
       "      <th>3</th>\n",
       "      <td>141526</td>\n",
       "      <td>Jaket</td>\n",
       "      <td>2017-04-28 06:52:52.547</td>\n",
       "      <td>2019-01-16 13:00:03.911</td>\n",
       "      <td>722632</td>\n",
       "      <td>27</td>\n",
       "      <td>False</td>\n",
       "      <td>2017</td>\n",
       "      <td>2019</td>\n",
       "      <td>5. &gt;10</td>\n",
       "    </tr>\n",
       "    <tr>\n",
       "      <th>4</th>\n",
       "      <td>37545</td>\n",
       "      <td>Sepatu</td>\n",
       "      <td>2015-04-16 10:01:38.531</td>\n",
       "      <td>2018-11-22 12:53:41.530</td>\n",
       "      <td>1775036</td>\n",
       "      <td>25</td>\n",
       "      <td>False</td>\n",
       "      <td>2015</td>\n",
       "      <td>2018</td>\n",
       "      <td>5. &gt;10</td>\n",
       "    </tr>\n",
       "  </tbody>\n",
       "</table>\n",
       "</div>"
      ],
      "text/plain": [
       "   Customer_ID Product       First_Transaction        Last_Transaction  \\\n",
       "0        29531   Jaket 2016-06-19 02:44:34.396 2018-10-05 05:48:02.608   \n",
       "1        29531  Sepatu 2014-07-23 01:02:11.494 2018-12-25 11:02:41.270   \n",
       "2       141526     Tas 2017-04-28 03:12:27.000 2019-01-24 09:40:02.000   \n",
       "3       141526   Jaket 2017-04-28 06:52:52.547 2019-01-16 13:00:03.911   \n",
       "4        37545  Sepatu 2015-04-16 10:01:38.531 2018-11-22 12:53:41.530   \n",
       "\n",
       "   Average_Transaction_Amount  Count_Transaction is_churn  \\\n",
       "0                     1467681                 22    False   \n",
       "1                     1269337                 41    False   \n",
       "2                      310915                 30    False   \n",
       "3                      722632                 27    False   \n",
       "4                     1775036                 25    False   \n",
       "\n",
       "   Year_First_Transaction  Year_Last_Transaction Count_Transaction_Group  \n",
       "0                    2016                   2018                  5. >10  \n",
       "1                    2014                   2018                  5. >10  \n",
       "2                    2017                   2019                  5. >10  \n",
       "3                    2017                   2019                  5. >10  \n",
       "4                    2015                   2018                  5. >10  "
      ]
     },
     "metadata": {},
     "output_type": "display_data"
    },
    {
     "data": {
      "text/plain": [
       "Count_Transaction_Group\n",
       "1. 1         49255\n",
       "2. 2 - 3     14272\n",
       "3. 4 - 6      5557\n",
       "4. 7 - 10     2890\n",
       "5. >10       28026\n",
       "Name: Customer_ID, dtype: int64"
      ]
     },
     "metadata": {},
     "output_type": "display_data"
    },
    {
     "data": {
      "text/plain": [
       "<Figure size 432x288 with 0 Axes>"
      ]
     },
     "metadata": {},
     "output_type": "display_data"
    },
    {
     "data": {
      "image/png": "[encoded data removed]",
      "text/plain": [
       "<Figure size 1080x360 with 1 Axes>"
      ]
     },
     "metadata": {
      "needs_background": "light"
     },
     "output_type": "display_data"
    }
   ],
   "source": [
    "import matplotlib.pyplot as plt\n",
    "\n",
    "plt.clf()\n",
    "def func(row):\n",
    "    if row[\"Count_Transaction\"] == 1:\n",
    "        val = \"1. 1\"\n",
    "    elif (row[\"Count_Transaction\"] > 1 and row[\"Count_Transaction\"] <= 3):\n",
    "        val = \"2. 2 - 3\"\n",
    "    elif (row[\"Count_Transaction\"] > 4 and row[\"Count_Transaction\"] <= 6):\n",
    "        val = \"3. 4 - 6\"\n",
    "    elif (row[\"Count_Transaction\"] > 6 and row[\"Count_Transaction\"] <= 10):\n",
    "        val = \"4. 7 - 10\"\n",
    "    else:\n",
    "        val = \"5. >10\"\n",
    "    \n",
    "    return val\n",
    "\n",
    "df[\"Count_Transaction_Group\"] = df.apply(func, axis=1)\n",
    "display(df.head())\n",
    "df_year = df.groupby([\"Count_Transaction_Group\"])[\"Customer_ID\"].count()\n",
    "display(df_year)\n",
    "\n",
    "plt.figure(figsize=(15, 5))\n",
    "df_year.plot(x=\"Count_Transaction_Group\", y=\"Customer_ID\", kind=\"bar\", color=\"red\")\n",
    "plt.title(\"Customer Distribution by Count Transaction Group\", fontsize=25)\n",
    "plt.xlabel(\"Count Transaction Group\", fontsize=20)\n",
    "plt.ylabel(\"Customer ID\", fontsize=20)\n",
    "plt.tight_layout()\n",
    "plt.show()"
   ]
  },
  {
   "cell_type": "markdown",
   "metadata": {},
   "source": [
    "## Distribusi kategorisasi average transaction amount"
   ]
  },
  {
   "cell_type": "code",
   "execution_count": 117,
   "metadata": {},
   "outputs": [
    {
     "data": {
      "text/plain": [
       "<Figure size 432x288 with 0 Axes>"
      ]
     },
     "metadata": {},
     "output_type": "display_data"
    },
    {
     "data": {
      "image/png": "[encoded data removed]",
      "text/plain": [
       "<Figure size 1080x576 with 1 Axes>"
      ]
     },
     "metadata": {
      "needs_background": "light"
     },
     "output_type": "display_data"
    }
   ],
   "source": [
    "import matplotlib.pyplot as plt\n",
    "\n",
    "plt.clf()\n",
    "# Kategorisasi rata-rata besar transaksi\n",
    "def f(row):\n",
    "    if (row['Average_Transaction_Amount'] >= 100000 and row['Average_Transaction_Amount'] <= 200000):\n",
    "        val ='1. 100.000 - 250.000'\n",
    "    elif (row['Average_Transaction_Amount'] > 250000 and row['Average_Transaction_Amount'] <= 500000):\n",
    "        val ='2. >250.000 - 500.000'\n",
    "    elif (row['Average_Transaction_Amount'] > 500000 and row['Average_Transaction_Amount'] <= 750000):\n",
    "        val ='3. >500.000 - 750.000'\n",
    "    elif (row['Average_Transaction_Amount'] > 750000 and row['Average_Transaction_Amount'] <= 1000000):\n",
    "        val ='4. >750.000 - 1.000.000'\n",
    "    elif (row['Average_Transaction_Amount'] > 1000000 and row['Average_Transaction_Amount'] <= 2500000):\n",
    "        val ='5. >1.000.000 - 2.500.000'\n",
    "    elif (row['Average_Transaction_Amount'] > 2500000 and row['Average_Transaction_Amount'] <= 5000000):\n",
    "        val ='6. >2.500.000 - 5.000.000'\n",
    "    elif (row['Average_Transaction_Amount'] > 5000000 and row['Average_Transaction_Amount'] <= 10000000):\n",
    "        val ='7. >5.000.000 - 10.000.000'\n",
    "    else:\n",
    "        val ='8. >10.000.000'\n",
    "    return val\n",
    "\n",
    "df[\"Average_Transaction_Amount_Group\"] = df.apply(f, axis=1)\n",
    "df_year = df.groupby([\"Average_Transaction_Amount_Group\"])[\"Customer_ID\"].count()\n",
    "plt.figure(figsize=(15, 8))\n",
    "df_year.plot(x=\"Average_Transaction_Amount_Group\", y=\"Customer_ID\", kind=\"bar\", color=\"red\")\n",
    "plt.title(\"Customer Distribution by Average Transaction Amount Group\", fontsize=25)\n",
    "plt.xlabel(\"Average_Transaction_Amount_Group\", fontsize=20)\n",
    "plt.ylabel(\"Customer_ID\", fontsize=20)\n",
    "plt.xticks(rotation=45)\n",
    "plt.tight_layout()\n",
    "plt.show()\n",
    "\n",
    "# display(df.head())\n",
    "# display(df_year)"
   ]
  },
  {
   "cell_type": "markdown",
   "metadata": {},
   "source": [
    "## Feature Column & Target"
   ]
  },
  {
   "cell_type": "code",
   "execution_count": 124,
   "metadata": {},
   "outputs": [
    {
     "data": {
      "text/plain": [
       "0        0\n",
       "1        0\n",
       "2        0\n",
       "3        0\n",
       "4        0\n",
       "        ..\n",
       "99995    1\n",
       "99996    1\n",
       "99997    1\n",
       "99998    1\n",
       "99999    0\n",
       "Name: is_churn, Length: 100000, dtype: int64"
      ]
     },
     "metadata": {},
     "output_type": "display_data"
    }
   ],
   "source": [
    "df[\"Year_Diff\"] = df[\"Year_Last_Transaction\"] - df[\"Year_First_Transaction\"]\n",
    "\n",
    "feature_columns = [\"Average_Transaction_Amount\", \"Count_Transaction\", \"Year_Diff\"]\n",
    "\n",
    "X = df[feature_columns]\n",
    "y = df[\"is_churn\"].astype(\"int64\")\n",
    "display(y)"
   ]
  },
  {
   "cell_type": "markdown",
   "metadata": {},
   "source": [
    "## Split X dan y ke dalam bagian training dan testing"
   ]
  },
  {
   "cell_type": "code",
   "execution_count": 125,
   "metadata": {},
   "outputs": [],
   "source": [
    "from sklearn.model_selection import train_test_split\n",
    "\n",
    "X_train, X_test, y_train, y_test = train_test_split(X, y, test_size=0.25, random_state=0)"
   ]
  },
  {
   "cell_type": "markdown",
   "metadata": {},
   "source": [
    "## Train, predict dan evaluate"
   ]
  },
  {
   "cell_type": "code",
   "execution_count": 131,
   "metadata": {},
   "outputs": [
    {
     "data": {
      "text/plain": [
       "array([[    1,  8330],\n",
       "       [    3, 16666]], dtype=int64)"
      ]
     },
     "metadata": {},
     "output_type": "display_data"
    },
    {
     "name": "stdout",
     "output_type": "stream",
     "text": [
      "tn = 1.000000\n",
      " fp = 8330.000000\n",
      " fn = 3.000000\n",
      " tp = 16666.000000\n",
      "\n"
     ]
    }
   ],
   "source": [
    "from sklearn.linear_model import LogisticRegression\n",
    "from sklearn.metrics import confusion_matrix\n",
    "\n",
    "logreg = LogisticRegression()\n",
    "logreg.fit(X_train, y_train)\n",
    "y_pred = logreg.predict(X_test)\n",
    "cnf_matrix = confusion_matrix(y_test, y_pred)\n",
    "display(cnf_matrix)"
   ]
  },
  {
   "cell_type": "markdown",
   "metadata": {},
   "source": [
    "## Visualisasi Confusion Matrix"
   ]
  },
  {
   "cell_type": "code",
   "execution_count": 149,
   "metadata": {},
   "outputs": [
    {
     "name": "stdout",
     "output_type": "stream",
     "text": [
      "tn = 1.000000\n",
      " fp = 8330.000000\n",
      " fn = 3.000000\n",
      " tp = 16666.000000\n",
      "\n"
     ]
    },
    {
     "data": {
      "text/plain": [
       "<Figure size 1440x576 with 0 Axes>"
      ]
     },
     "metadata": {},
     "output_type": "display_data"
    },
    {
     "data": {
      "image/png": "[encoded data removed]",
      "text/plain": [
       "<Figure size 1440x576 with 2 Axes>"
      ]
     },
     "metadata": {},
     "output_type": "display_data"
    }
   ],
   "source": [
    "import numpy as np\n",
    "import matplotlib.pyplot as plt\n",
    "import seaborn as sns\n",
    "\n",
    "plt.clf()\n",
    "class_names = [0, 1]\n",
    "fig, ax = plt.subplots()\n",
    "\n",
    "tick_marks = np.arange(len(class_names))\n",
    "plt.xticks(tick_marks, class_names)\n",
    "plt.yticks(tick_marks, class_names)\n",
    "\n",
    "tn, fp, fn, tp = confusion_matrix(y_test, y_pred).ravel()\n",
    "print(\"tn = %f\\n fp = %f\\n fn = %f\\n tp = %f\\n\"%(tn, fp, fn, tp))\n",
    "\n",
    "df_cnf_matrix = pd.DataFrame(cnf_matrix)\n",
    "# fig, ax = plt.subplots(figsize=(10, 5))\n",
    "sns.set(rc = {'figure.figsize':(20,8)})\n",
    "sns.heatmap(df_cnf_matrix, annot=True, cmap=\"YlGnBu\", fmt=\"g\")\n",
    "ax.xaxis.set_label_position(\"top\")\n",
    "plt.title(\"Confusion Matrix\", fontsize=25)\n",
    "plt.xlabel(\"Actual\", fontsize=20)\n",
    "plt.ylabel(\"Predicted\", fontsize=20)\n",
    "plt.tight_layout()\n",
    "plt.show()"
   ]
  },
  {
   "cell_type": "markdown",
   "metadata": {},
   "source": [
    "## Accuracy, Precision, dan Recall"
   ]
  },
  {
   "cell_type": "code",
   "execution_count": 150,
   "metadata": {},
   "outputs": [
    {
     "name": "stdout",
     "output_type": "stream",
     "text": [
      "Accuracy : 0.66668\n",
      "Precision: 0.66668\n",
      "Recall : 0.66668\n"
     ]
    }
   ],
   "source": [
    "from sklearn.metrics import accuracy_score, precision_score, recall_score\n",
    "\n",
    "#Menghitung Accuracy, Precision, dan Recall\n",
    "print('Accuracy :', accuracy_score(y_test, y_pred))\n",
    "print('Precision:', precision_score(y_test, y_pred, average='micro'))\n",
    "print('Recall :', recall_score(y_test, y_pred, average='micro'))"
   ]
  }
 ],
 "metadata": {
  "interpreter": {
   "hash": "6509b18a7194d001ee0cfd46adf488e038c1395c3081cad7b3c9cce4b122d28d"
  },
  "kernelspec": {
   "display_name": "Python 3.9.8 64-bit",
   "language": "python",
   "name": "python3"
  },
  "language_info": {
   "codemirror_mode": {
    "name": "ipython",
    "version": 3
   },
   "file_extension": ".py",
   "mimetype": "text/x-python",
   "name": "python",
   "nbconvert_exporter": "python",
   "pygments_lexer": "ipython3",
   "version": "3.9.8"
  },
  "orig_nbformat": 4
 },
 "nbformat": 4,
 "nbformat_minor": 2
}
