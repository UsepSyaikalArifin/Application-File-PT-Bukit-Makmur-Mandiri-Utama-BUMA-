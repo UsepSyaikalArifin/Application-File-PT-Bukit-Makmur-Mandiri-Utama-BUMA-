{
 "cells": [
  {
   "cell_type": "markdown",
   "metadata": {},
   "source": [
    "## Memanggil Library Pandas"
   ]
  },
  {
   "cell_type": "code",
   "execution_count": 1,
   "metadata": {},
   "outputs": [],
   "source": [
    "import pandas as pd\n",
    "import numpy as np"
   ]
  },
  {
   "cell_type": "code",
   "execution_count": 5,
   "metadata": {},
   "outputs": [
    {
     "name": "stdout",
     "output_type": "stream",
     "text": [
      "Series : \n",
      "0    1\n",
      "1    2\n",
      "2    3\n",
      "3    4\n",
      "4    5\n",
      "5    6\n",
      "dtype: int64\n",
      "Dataframe\n"
     ]
    },
    {
     "data": {
      "text/html": [
       "<div>\n",
       "<style scoped>\n",
       "    .dataframe tbody tr th:only-of-type {\n",
       "        vertical-align: middle;\n",
       "    }\n",
       "\n",
       "    .dataframe tbody tr th {\n",
       "        vertical-align: top;\n",
       "    }\n",
       "\n",
       "    .dataframe thead th {\n",
       "        text-align: right;\n",
       "    }\n",
       "</style>\n",
       "<table border=\"1\" class=\"dataframe\">\n",
       "  <thead>\n",
       "    <tr style=\"text-align: right;\">\n",
       "      <th></th>\n",
       "      <th>0</th>\n",
       "      <th>1</th>\n",
       "      <th>2</th>\n",
       "    </tr>\n",
       "  </thead>\n",
       "  <tbody>\n",
       "    <tr>\n",
       "      <th>0</th>\n",
       "      <td>1</td>\n",
       "      <td>2</td>\n",
       "      <td>3</td>\n",
       "    </tr>\n",
       "    <tr>\n",
       "      <th>1</th>\n",
       "      <td>a</td>\n",
       "      <td>b</td>\n",
       "      <td>c</td>\n",
       "    </tr>\n",
       "    <tr>\n",
       "      <th>2</th>\n",
       "      <td>3</td>\n",
       "      <td>4</td>\n",
       "      <td>5</td>\n",
       "    </tr>\n",
       "    <tr>\n",
       "      <th>3</th>\n",
       "      <td>d</td>\n",
       "      <td>4</td>\n",
       "      <td>6</td>\n",
       "    </tr>\n",
       "  </tbody>\n",
       "</table>\n",
       "</div>"
      ],
      "text/plain": [
       "   0  1  2\n",
       "0  1  2  3\n",
       "1  a  b  c\n",
       "2  3  4  5\n",
       "3  d  4  6"
      ]
     },
     "metadata": {},
     "output_type": "display_data"
    }
   ],
   "source": [
    "import pandas as pd\n",
    "from IPython.display import display\n",
    "\n",
    "number_list = pd.Series([1, 2, 3, 4, 5, 6])\n",
    "print(\"Series : \")\n",
    "print(number_list)\n",
    "matrix = [[1, 2, 3],\n",
    "          [\"a\",\"b\",\"c\"],\n",
    "          [3, 4, 5],\n",
    "          [\"d\", 4, 6]]\n",
    "matrix_list = pd.DataFrame(matrix)\n",
    "print(\"Dataframe\")\n",
    "display(matrix_list)"
   ]
  },
  {
   "cell_type": "code",
   "execution_count": 7,
   "metadata": {},
   "outputs": [
    {
     "name": "stdout",
     "output_type": "stream",
     "text": [
      "Series : \n",
      "0    1\n",
      "1    2\n",
      "2    3\n",
      "3    4\n",
      "4    5\n",
      "5    6\n",
      "dtype: int64\n",
      "Dataframe\n"
     ]
    },
    {
     "data": {
      "text/html": [
       "<div>\n",
       "<style scoped>\n",
       "    .dataframe tbody tr th:only-of-type {\n",
       "        vertical-align: middle;\n",
       "    }\n",
       "\n",
       "    .dataframe tbody tr th {\n",
       "        vertical-align: top;\n",
       "    }\n",
       "\n",
       "    .dataframe thead th {\n",
       "        text-align: right;\n",
       "    }\n",
       "</style>\n",
       "<table border=\"1\" class=\"dataframe\">\n",
       "  <thead>\n",
       "    <tr style=\"text-align: right;\">\n",
       "      <th></th>\n",
       "      <th>kolom1</th>\n",
       "      <th>kolom2</th>\n",
       "      <th>kolom3</th>\n",
       "      <th>kolom4</th>\n",
       "    </tr>\n",
       "  </thead>\n",
       "  <tbody>\n",
       "    <tr>\n",
       "      <th>0</th>\n",
       "      <td>1</td>\n",
       "      <td>a</td>\n",
       "      <td>3</td>\n",
       "      <td>d</td>\n",
       "    </tr>\n",
       "    <tr>\n",
       "      <th>1</th>\n",
       "      <td>2</td>\n",
       "      <td>b</td>\n",
       "      <td>4</td>\n",
       "      <td>4</td>\n",
       "    </tr>\n",
       "    <tr>\n",
       "      <th>2</th>\n",
       "      <td>3</td>\n",
       "      <td>c</td>\n",
       "      <td>5</td>\n",
       "      <td>6</td>\n",
       "    </tr>\n",
       "  </tbody>\n",
       "</table>\n",
       "</div>"
      ],
      "text/plain": [
       "   kolom1 kolom2  kolom3 kolom4\n",
       "0       1      a       3      d\n",
       "1       2      b       4      4\n",
       "2       3      c       5      6"
      ]
     },
     "metadata": {},
     "output_type": "display_data"
    }
   ],
   "source": [
    "import pandas as pd\n",
    "from IPython.display import display\n",
    "\n",
    "number_list = pd.Series([1, 2, 3, 4, 5, 6])\n",
    "print(\"Series : \")\n",
    "print(number_list)\n",
    "matrix = [[1, 2, 3],\n",
    "          [\"a\",\"b\",\"c\"],\n",
    "          [3, 4, 5],\n",
    "          [\"d\", 4, 6]]\n",
    "matrix_list = pd.DataFrame({\n",
    "                            \"kolom1\" : matrix[0],\n",
    "                            \"kolom2\" : matrix[1],\n",
    "                            \"kolom3\" : matrix[2],\n",
    "                            \"kolom4\" : matrix[3]\n",
    "                          })\n",
    "print(\"Dataframe\")\n",
    "display(matrix_list)"
   ]
  },
  {
   "cell_type": "code",
   "execution_count": 20,
   "metadata": {},
   "outputs": [
    {
     "name": "stdout",
     "output_type": "stream",
     "text": [
      "Shape of Data Series = 6 Baris\n",
      "Shape of DataFrame = 3 Baris & 4 Kolom\n",
      "Tipe Data Series :\n",
      "int64 \n",
      "Tipe Data Series :\n",
      "kolom1     int64\n",
      "kolom2    object\n",
      "kolom3     int64\n",
      "kolom4    object\n",
      "dtype: object \n",
      "Tipe Data Series :\n",
      "0    1.0\n",
      "1    2.0\n",
      "2    3.0\n",
      "3    4.0\n",
      "4    5.0\n",
      "5    6.0\n",
      "dtype: float64 \n",
      "Tipe Data Series :\n",
      "  kolom1 kolom2 kolom3 kolom4\n",
      "0      1      a      3      d\n",
      "1      2      b      4      4\n",
      "2      3      c      5      6 \n",
      "Tipe Data Series :\n",
      "int64 \n",
      "Tipe Data Series :\n",
      "kolom1     int64\n",
      "kolom2    object\n",
      "kolom3     int64\n",
      "kolom4    object\n",
      "dtype: object \n"
     ]
    }
   ],
   "source": [
    "import pandas as pd\n",
    "from IPython.display import display\n",
    "\n",
    "number_list = pd.Series([1, 2, 3, 4, 5, 6])\n",
    "matrix = [[1, 2, 3],\n",
    "          [\"a\",\"b\",\"c\"],\n",
    "          [3, 4, 5],\n",
    "          [\"d\", 4, 6]]\n",
    "matrix_list = pd.DataFrame({\n",
    "                            \"kolom1\" : matrix[0],\n",
    "                            \"kolom2\" : matrix[1],\n",
    "                            \"kolom3\" : matrix[2],\n",
    "                            \"kolom4\" : matrix[3]\n",
    "                          })\n",
    "print(\"Shape of Data Series = %d Baris\"%number_list.shape)\n",
    "print(\"Shape of DataFrame = %d Baris & %d Kolom\"%matrix_list.shape)\n",
    "print(\"Tipe Data Series :\\n{} \".format(number_list.dtypes))\n",
    "print(\"Tipe Data Series :\\n{} \".format(matrix_list.dtypes))\n",
    "print(\"Tipe Data Series :\\n{} \".format(number_list.astype(float)))\n",
    "print(\"Tipe Data Series :\\n{} \".format(matrix_list.astype(\"object\")))\n",
    "print(\"Tipe Data Series :\\n{} \".format(number_list.dtypes))\n",
    "print(\"Tipe Data Series :\\n{} \".format(matrix_list.dtypes))\n"
   ]
  },
  {
   "cell_type": "code",
   "execution_count": 22,
   "metadata": {},
   "outputs": [
    {
     "data": {
      "text/html": [
       "<div>\n",
       "<style scoped>\n",
       "    .dataframe tbody tr th:only-of-type {\n",
       "        vertical-align: middle;\n",
       "    }\n",
       "\n",
       "    .dataframe tbody tr th {\n",
       "        vertical-align: top;\n",
       "    }\n",
       "\n",
       "    .dataframe thead th {\n",
       "        text-align: right;\n",
       "    }\n",
       "</style>\n",
       "<table border=\"1\" class=\"dataframe\">\n",
       "  <thead>\n",
       "    <tr style=\"text-align: right;\">\n",
       "      <th></th>\n",
       "      <th>0</th>\n",
       "      <th>1</th>\n",
       "      <th>2</th>\n",
       "    </tr>\n",
       "  </thead>\n",
       "  <tbody>\n",
       "    <tr>\n",
       "      <th>0</th>\n",
       "      <td>1</td>\n",
       "      <td>2</td>\n",
       "      <td>3</td>\n",
       "    </tr>\n",
       "    <tr>\n",
       "      <th>1</th>\n",
       "      <td>a</td>\n",
       "      <td>b</td>\n",
       "      <td>c</td>\n",
       "    </tr>\n",
       "    <tr>\n",
       "      <th>2</th>\n",
       "      <td>3</td>\n",
       "      <td>4</td>\n",
       "      <td>5</td>\n",
       "    </tr>\n",
       "    <tr>\n",
       "      <th>3</th>\n",
       "      <td>d</td>\n",
       "      <td>4</td>\n",
       "      <td>6</td>\n",
       "    </tr>\n",
       "  </tbody>\n",
       "</table>\n",
       "</div>"
      ],
      "text/plain": [
       "   0  1  2\n",
       "0  1  2  3\n",
       "1  a  b  c\n",
       "2  3  4  5\n",
       "3  d  4  6"
      ]
     },
     "metadata": {},
     "output_type": "display_data"
    },
    {
     "name": "stdout",
     "output_type": "stream",
     "text": [
      "[3, 'c']\n"
     ]
    }
   ],
   "source": [
    "matrix = [[1,2,3],\n",
    "          ['a','b','c'],\n",
    "          [3,4,5],\n",
    "          ['d',4,6]]\n",
    "matrix_list = pd.DataFrame(matrix)\n",
    "display(matrix_list)\n",
    "\n",
    "print(matrix_list.iloc[0:2,2].to_list())"
   ]
  }
 ],
 "metadata": {
  "interpreter": {
   "hash": "a735e8d5f2ebeae8eff3c40d8a94f415263963b10ae3464c60988cc9ac0e5420"
  },
  "kernelspec": {
   "display_name": "Python 3.8.10 64-bit",
   "language": "python",
   "name": "python3"
  },
  "language_info": {
   "codemirror_mode": {
    "name": "ipython",
    "version": 3
   },
   "file_extension": ".py",
   "mimetype": "text/x-python",
   "name": "python",
   "nbconvert_exporter": "python",
   "pygments_lexer": "ipython3",
   "version": "3.8.10"
  },
  "orig_nbformat": 4
 },
 "nbformat": 4,
 "nbformat_minor": 2
}
